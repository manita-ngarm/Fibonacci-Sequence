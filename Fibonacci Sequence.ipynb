{
 "cells": [
  {
   "cell_type": "code",
   "execution_count": 1,
   "id": "f03b91e7",
   "metadata": {},
   "outputs": [],
   "source": [
    "def Fibonacci():\n",
    "    s = int(input(\"What is your N of Fibonacci sequence?\\n(if user would like to stop, please type -100)\\n\"))\n",
    "    if s == -100:\n",
    "        print(\"Ending the program, Thanks!\")\n",
    "    else: \n",
    "        Fibonacci_calculation(s)"
   ]
  },
  {
   "cell_type": "code",
   "execution_count": 2,
   "id": "4fc3f748",
   "metadata": {},
   "outputs": [],
   "source": [
    "def Fibonacci_calculation(n):\n",
    "    a1, a2 = 0, 1\n",
    "    count = 0\n",
    "    # check negative input\n",
    "    if n < 0:\n",
    "        print(\"Please enter a new positive value\")\n",
    "    # check input = 1\n",
    "    elif n == 1:\n",
    "        print(\"Fibonacci sequence:\\n0\")\n",
    "    # fibonacci sequence\n",
    "    else:\n",
    "        print(\"Fibonacci sequence:\")\n",
    "        while count < n:\n",
    "            print(a1)\n",
    "            total = a1 + a2\n",
    "            a1 = a2\n",
    "            a2 = total\n",
    "            count += 1        \n",
    "    Fibonacci()"
   ]
  },
  {
   "cell_type": "code",
   "execution_count": 3,
   "id": "a000aefa",
   "metadata": {},
   "outputs": [
    {
     "name": "stdout",
     "output_type": "stream",
     "text": [
      "What is your N of Fibonacci sequence?\n",
      "(if user would like to stop, please type -100)\n",
      "5\n",
      "Fibonacci sequence:\n",
      "0\n",
      "1\n",
      "1\n",
      "2\n",
      "3\n",
      "What is your N of Fibonacci sequence?\n",
      "(if user would like to stop, please type -100)\n",
      "-2\n",
      "Please enter a new positive value\n",
      "What is your N of Fibonacci sequence?\n",
      "(if user would like to stop, please type -100)\n",
      "1\n",
      "Fibonacci sequence:\n",
      "0\n",
      "What is your N of Fibonacci sequence?\n",
      "(if user would like to stop, please type -100)\n",
      "-100\n",
      "Ending the program, Thanks!\n"
     ]
    }
   ],
   "source": [
    "Fibonacci()"
   ]
  }
 ],
 "metadata": {
  "kernelspec": {
   "display_name": "Python 3 (ipykernel)",
   "language": "python",
   "name": "python3"
  },
  "language_info": {
   "codemirror_mode": {
    "name": "ipython",
    "version": 3
   },
   "file_extension": ".py",
   "mimetype": "text/x-python",
   "name": "python",
   "nbconvert_exporter": "python",
   "pygments_lexer": "ipython3",
   "version": "3.8.8"
  }
 },
 "nbformat": 4,
 "nbformat_minor": 5
}
